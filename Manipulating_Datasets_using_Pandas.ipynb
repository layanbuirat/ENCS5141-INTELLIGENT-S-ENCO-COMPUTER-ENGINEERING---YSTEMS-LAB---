{
  "nbformat": 4,
  "nbformat_minor": 0,
  "metadata": {
    "colab": {
      "provenance": [],
      "name": "Manipulating Datasets using Pandas.ipynb",
      "authorship_tag": "ABX9TyOodS6rA+L1i06OKxQhtEm4",
      "include_colab_link": true
    },
    "kernelspec": {
      "name": "python3",
      "display_name": "Python 3"
    },
    "language_info": {
      "name": "python"
    }
  },
  "cells": [
    {
      "cell_type": "markdown",
      "metadata": {
        "id": "view-in-github",
        "colab_type": "text"
      },
      "source": [
        "<a href=\"https://colab.research.google.com/github/layanbuirat/ENCS5141-INTELLIGENT-S-ENCO-COMPUTER-ENGINEERING---YSTEMS-LAB---/blob/main/Manipulating_Datasets_using_Pandas.ipynb\" target=\"_parent\"><img src=\"https://colab.research.google.com/assets/colab-badge.svg\" alt=\"Open In Colab\"/></a>"
      ]
    },
    {
      "cell_type": "code",
      "execution_count": null,
      "metadata": {
        "colab": {
          "base_uri": "https://localhost:8080/"
        },
        "id": "bBMCkdVYbp4O",
        "outputId": "ae903d90-1682-462e-b8d7-f0f0fc5ef6d2"
      },
      "outputs": [
        {
          "output_type": "stream",
          "name": "stdout",
          "text": [
            "0    1\n",
            "1    7\n",
            "2    2\n",
            "dtype: int64\n"
          ]
        }
      ],
      "source": [
        "import pandas as pd\n",
        "# create a simple list\n",
        "a = [1, 7, 2]\n",
        "# create series from a list\n",
        "my_Series = pd.Series(a)\n",
        "print(my_Series)\n",
        "\n"
      ]
    },
    {
      "cell_type": "code",
      "source": [
        "import pandas as pd\n",
        "# a simple dictionary\n",
        "calories = {\"day1\": 420, \"day2\": 380, \"day3\": 390}\n",
        "# create series from dictionary\n",
        "my_Series = pd.Series(calories)\n",
        "print(my_Series)"
      ],
      "metadata": {
        "colab": {
          "base_uri": "https://localhost:8080/"
        },
        "id": "XTx7UqXnb2j9",
        "outputId": "f16d6f37-7851-48ad-acb3-5bdeab417cec"
      },
      "execution_count": null,
      "outputs": [
        {
          "output_type": "stream",
          "name": "stdout",
          "text": [
            "day1    420\n",
            "day2    380\n",
            "day3    390\n",
            "dtype: int64\n"
          ]
        }
      ]
    },
    {
      "cell_type": "code",
      "source": [
        "import pandas as pd\n",
        "# Initialize data to a series.\n",
        "d = pd.Series([10, 20, 30, 40])\n",
        "# creates Dataframe.\n",
        "df = pd.DataFrame(d)\n",
        "# print the data.\n",
        "print(df)"
      ],
      "metadata": {
        "colab": {
          "base_uri": "https://localhost:8080/"
        },
        "id": "vQ5zk_A1c5oJ",
        "outputId": "56f73b9c-233a-49ca-b695-a1cabb2de4d7"
      },
      "execution_count": null,
      "outputs": [
        {
          "output_type": "stream",
          "name": "stdout",
          "text": [
            "    0\n",
            "0  10\n",
            "1  20\n",
            "2  30\n",
            "3  40\n"
          ]
        }
      ]
    },
    {
      "cell_type": "code",
      "source": [
        "import pandas as pd\n",
        "# initialize the data of lists.\n",
        "data = {'Name': ['Ahmad', 'Ali', 'Omar', 'Hamzah'],\n",
        "\n",
        "'Age': [20, 21, 19, 18]}\n",
        "\n",
        "# Create DataFrame\n",
        "df = pd.DataFrame(data)\n",
        "# Print the output.\n",
        "print(df)"
      ],
      "metadata": {
        "colab": {
          "base_uri": "https://localhost:8080/"
        },
        "id": "gcFNYu1ddPGK",
        "outputId": "e1d7b451-95ea-483f-f249-a8104086211b"
      },
      "execution_count": null,
      "outputs": [
        {
          "output_type": "stream",
          "name": "stdout",
          "text": [
            "     Name  Age\n",
            "0   Ahmad   20\n",
            "1     Ali   21\n",
            "2    Omar   19\n",
            "3  Hamzah   18\n"
          ]
        }
      ]
    },
    {
      "cell_type": "code",
      "source": [
        "import pandas as pd\n",
        "data = {\n",
        "\"calories\": [420, 380, 390],\n",
        "\"duration\": [50, 40, 45]\n",
        "}\n",
        "myvar = pd.DataFrame(data)\n",
        "print(myvar)"
      ],
      "metadata": {
        "colab": {
          "base_uri": "https://localhost:8080/"
        },
        "id": "wJ8LfVNidTst",
        "outputId": "c5bc648b-d991-4c12-91ca-3c0818dd52b9"
      },
      "execution_count": null,
      "outputs": [
        {
          "output_type": "stream",
          "name": "stdout",
          "text": [
            "   calories  duration\n",
            "0       420        50\n",
            "1       380        40\n",
            "2       390        45\n"
          ]
        }
      ]
    },
    {
      "cell_type": "code",
      "source": [
        "from google.colab import files\n",
        "uploaded = files.upload()\n"
      ],
      "metadata": {
        "colab": {
          "base_uri": "https://localhost:8080/",
          "height": 73
        },
        "id": "QYVXDKFHvmPN",
        "outputId": "41bd4cd9-69f4-468f-fe2d-650b994c1f10"
      },
      "execution_count": null,
      "outputs": [
        {
          "output_type": "display_data",
          "data": {
            "text/plain": [
              "<IPython.core.display.HTML object>"
            ],
            "text/html": [
              "\n",
              "     <input type=\"file\" id=\"files-6c6db7a8-06f3-43be-94e7-7a1913e5cafd\" name=\"files[]\" multiple disabled\n",
              "        style=\"border:none\" />\n",
              "     <output id=\"result-6c6db7a8-06f3-43be-94e7-7a1913e5cafd\">\n",
              "      Upload widget is only available when the cell has been executed in the\n",
              "      current browser session. Please rerun this cell to enable.\n",
              "      </output>\n",
              "      <script>// Copyright 2017 Google LLC\n",
              "//\n",
              "// Licensed under the Apache License, Version 2.0 (the \"License\");\n",
              "// you may not use this file except in compliance with the License.\n",
              "// You may obtain a copy of the License at\n",
              "//\n",
              "//      http://www.apache.org/licenses/LICENSE-2.0\n",
              "//\n",
              "// Unless required by applicable law or agreed to in writing, software\n",
              "// distributed under the License is distributed on an \"AS IS\" BASIS,\n",
              "// WITHOUT WARRANTIES OR CONDITIONS OF ANY KIND, either express or implied.\n",
              "// See the License for the specific language governing permissions and\n",
              "// limitations under the License.\n",
              "\n",
              "/**\n",
              " * @fileoverview Helpers for google.colab Python module.\n",
              " */\n",
              "(function(scope) {\n",
              "function span(text, styleAttributes = {}) {\n",
              "  const element = document.createElement('span');\n",
              "  element.textContent = text;\n",
              "  for (const key of Object.keys(styleAttributes)) {\n",
              "    element.style[key] = styleAttributes[key];\n",
              "  }\n",
              "  return element;\n",
              "}\n",
              "\n",
              "// Max number of bytes which will be uploaded at a time.\n",
              "const MAX_PAYLOAD_SIZE = 100 * 1024;\n",
              "\n",
              "function _uploadFiles(inputId, outputId) {\n",
              "  const steps = uploadFilesStep(inputId, outputId);\n",
              "  const outputElement = document.getElementById(outputId);\n",
              "  // Cache steps on the outputElement to make it available for the next call\n",
              "  // to uploadFilesContinue from Python.\n",
              "  outputElement.steps = steps;\n",
              "\n",
              "  return _uploadFilesContinue(outputId);\n",
              "}\n",
              "\n",
              "// This is roughly an async generator (not supported in the browser yet),\n",
              "// where there are multiple asynchronous steps and the Python side is going\n",
              "// to poll for completion of each step.\n",
              "// This uses a Promise to block the python side on completion of each step,\n",
              "// then passes the result of the previous step as the input to the next step.\n",
              "function _uploadFilesContinue(outputId) {\n",
              "  const outputElement = document.getElementById(outputId);\n",
              "  const steps = outputElement.steps;\n",
              "\n",
              "  const next = steps.next(outputElement.lastPromiseValue);\n",
              "  return Promise.resolve(next.value.promise).then((value) => {\n",
              "    // Cache the last promise value to make it available to the next\n",
              "    // step of the generator.\n",
              "    outputElement.lastPromiseValue = value;\n",
              "    return next.value.response;\n",
              "  });\n",
              "}\n",
              "\n",
              "/**\n",
              " * Generator function which is called between each async step of the upload\n",
              " * process.\n",
              " * @param {string} inputId Element ID of the input file picker element.\n",
              " * @param {string} outputId Element ID of the output display.\n",
              " * @return {!Iterable<!Object>} Iterable of next steps.\n",
              " */\n",
              "function* uploadFilesStep(inputId, outputId) {\n",
              "  const inputElement = document.getElementById(inputId);\n",
              "  inputElement.disabled = false;\n",
              "\n",
              "  const outputElement = document.getElementById(outputId);\n",
              "  outputElement.innerHTML = '';\n",
              "\n",
              "  const pickedPromise = new Promise((resolve) => {\n",
              "    inputElement.addEventListener('change', (e) => {\n",
              "      resolve(e.target.files);\n",
              "    });\n",
              "  });\n",
              "\n",
              "  const cancel = document.createElement('button');\n",
              "  inputElement.parentElement.appendChild(cancel);\n",
              "  cancel.textContent = 'Cancel upload';\n",
              "  const cancelPromise = new Promise((resolve) => {\n",
              "    cancel.onclick = () => {\n",
              "      resolve(null);\n",
              "    };\n",
              "  });\n",
              "\n",
              "  // Wait for the user to pick the files.\n",
              "  const files = yield {\n",
              "    promise: Promise.race([pickedPromise, cancelPromise]),\n",
              "    response: {\n",
              "      action: 'starting',\n",
              "    }\n",
              "  };\n",
              "\n",
              "  cancel.remove();\n",
              "\n",
              "  // Disable the input element since further picks are not allowed.\n",
              "  inputElement.disabled = true;\n",
              "\n",
              "  if (!files) {\n",
              "    return {\n",
              "      response: {\n",
              "        action: 'complete',\n",
              "      }\n",
              "    };\n",
              "  }\n",
              "\n",
              "  for (const file of files) {\n",
              "    const li = document.createElement('li');\n",
              "    li.append(span(file.name, {fontWeight: 'bold'}));\n",
              "    li.append(span(\n",
              "        `(${file.type || 'n/a'}) - ${file.size} bytes, ` +\n",
              "        `last modified: ${\n",
              "            file.lastModifiedDate ? file.lastModifiedDate.toLocaleDateString() :\n",
              "                                    'n/a'} - `));\n",
              "    const percent = span('0% done');\n",
              "    li.appendChild(percent);\n",
              "\n",
              "    outputElement.appendChild(li);\n",
              "\n",
              "    const fileDataPromise = new Promise((resolve) => {\n",
              "      const reader = new FileReader();\n",
              "      reader.onload = (e) => {\n",
              "        resolve(e.target.result);\n",
              "      };\n",
              "      reader.readAsArrayBuffer(file);\n",
              "    });\n",
              "    // Wait for the data to be ready.\n",
              "    let fileData = yield {\n",
              "      promise: fileDataPromise,\n",
              "      response: {\n",
              "        action: 'continue',\n",
              "      }\n",
              "    };\n",
              "\n",
              "    // Use a chunked sending to avoid message size limits. See b/62115660.\n",
              "    let position = 0;\n",
              "    do {\n",
              "      const length = Math.min(fileData.byteLength - position, MAX_PAYLOAD_SIZE);\n",
              "      const chunk = new Uint8Array(fileData, position, length);\n",
              "      position += length;\n",
              "\n",
              "      const base64 = btoa(String.fromCharCode.apply(null, chunk));\n",
              "      yield {\n",
              "        response: {\n",
              "          action: 'append',\n",
              "          file: file.name,\n",
              "          data: base64,\n",
              "        },\n",
              "      };\n",
              "\n",
              "      let percentDone = fileData.byteLength === 0 ?\n",
              "          100 :\n",
              "          Math.round((position / fileData.byteLength) * 100);\n",
              "      percent.textContent = `${percentDone}% done`;\n",
              "\n",
              "    } while (position < fileData.byteLength);\n",
              "  }\n",
              "\n",
              "  // All done.\n",
              "  yield {\n",
              "    response: {\n",
              "      action: 'complete',\n",
              "    }\n",
              "  };\n",
              "}\n",
              "\n",
              "scope.google = scope.google || {};\n",
              "scope.google.colab = scope.google.colab || {};\n",
              "scope.google.colab._files = {\n",
              "  _uploadFiles,\n",
              "  _uploadFilesContinue,\n",
              "};\n",
              "})(self);\n",
              "</script> "
            ]
          },
          "metadata": {}
        },
        {
          "output_type": "stream",
          "name": "stdout",
          "text": [
            "Saving Dinner.csv to Dinner.csv\n"
          ]
        }
      ]
    },
    {
      "cell_type": "code",
      "source": [
        "import pandas as pd\n",
        "df = pd.read_csv('Dinner.csv')  # Now the file is in Colab's working directory\n",
        "print(df)\n"
      ],
      "metadata": {
        "colab": {
          "base_uri": "https://localhost:8080/"
        },
        "id": "OlMlY1IzdaLF",
        "outputId": "ff4c50ed-d585-43cd-a5e2-faa0f6fef89c"
      },
      "execution_count": null,
      "outputs": [
        {
          "output_type": "stream",
          "name": "stdout",
          "text": [
            "    Waiter  total_bill   tip smoker  day    time  size\n",
            "0       10       16.99  1.01     No  Sun  Dinner     2\n",
            "1       10       10.34  1.66     No  Sun  Dinner     3\n",
            "2       11       21.01  3.50     No  Sun  Dinner     3\n",
            "3       11       23.68  3.31     No  Sun  Dinner     2\n",
            "4       22       24.59  3.61     No  Sun  Dinner     4\n",
            "5       13       25.29  4.71     No  Sun  Dinner     4\n",
            "6       10        8.77  2.00     No  Sun  Dinner     2\n",
            "7       30       26.88  3.12     No  Sun  Dinner     4\n",
            "8       15       15.04  1.96     No  Sun  Dinner     2\n",
            "9       30       14.78  3.23     No  Sun  Dinner     2\n",
            "10      15       10.27  1.71     No  Sun  Dinner     2\n",
            "11      30       35.26  5.00     No  Sun  Dinner     4\n",
            "12      10       15.42  1.57     No  Sun  Dinner     2\n",
            "13      11       18.43  3.00     No  Sun  Dinner     4\n",
            "14      11       14.83  3.02     No  Sun  Dinner     2\n",
            "15      30       21.58  3.92     No  Sun  Dinner     2\n",
            "16      11       10.33  1.67     No  Sun  Dinner     3\n",
            "17      10       16.29  3.71     No  Sun  Dinner     3\n",
            "18      12       16.97  3.50     No  Sun  Dinner     3\n",
            "19      12       20.65  3.35     No  Sat  Dinner     3\n",
            "20      11       17.92  4.08     No  Sat  Dinner     2\n",
            "21      11       20.29  2.75     No  Sat  Dinner     2\n",
            "22      10       15.77  2.23     No  Sat  Dinner     2\n",
            "23      33       39.42  7.58     No  Sat  Dinner     4\n",
            "24      33       19.82  3.18     No  Sat  Dinner     2\n"
          ]
        }
      ]
    },
    {
      "cell_type": "code",
      "source": [
        "from google.colab import files\n",
        "uploaded = files.upload()\n"
      ],
      "metadata": {
        "colab": {
          "base_uri": "https://localhost:8080/",
          "height": 73
        },
        "id": "PbQhB3j3vykG",
        "outputId": "0e7d4a71-bf71-4d45-92f2-ce327a147b49"
      },
      "execution_count": null,
      "outputs": [
        {
          "output_type": "display_data",
          "data": {
            "text/plain": [
              "<IPython.core.display.HTML object>"
            ],
            "text/html": [
              "\n",
              "     <input type=\"file\" id=\"files-23b97fe8-cdd4-45c7-98d2-bad988b53fd1\" name=\"files[]\" multiple disabled\n",
              "        style=\"border:none\" />\n",
              "     <output id=\"result-23b97fe8-cdd4-45c7-98d2-bad988b53fd1\">\n",
              "      Upload widget is only available when the cell has been executed in the\n",
              "      current browser session. Please rerun this cell to enable.\n",
              "      </output>\n",
              "      <script>// Copyright 2017 Google LLC\n",
              "//\n",
              "// Licensed under the Apache License, Version 2.0 (the \"License\");\n",
              "// you may not use this file except in compliance with the License.\n",
              "// You may obtain a copy of the License at\n",
              "//\n",
              "//      http://www.apache.org/licenses/LICENSE-2.0\n",
              "//\n",
              "// Unless required by applicable law or agreed to in writing, software\n",
              "// distributed under the License is distributed on an \"AS IS\" BASIS,\n",
              "// WITHOUT WARRANTIES OR CONDITIONS OF ANY KIND, either express or implied.\n",
              "// See the License for the specific language governing permissions and\n",
              "// limitations under the License.\n",
              "\n",
              "/**\n",
              " * @fileoverview Helpers for google.colab Python module.\n",
              " */\n",
              "(function(scope) {\n",
              "function span(text, styleAttributes = {}) {\n",
              "  const element = document.createElement('span');\n",
              "  element.textContent = text;\n",
              "  for (const key of Object.keys(styleAttributes)) {\n",
              "    element.style[key] = styleAttributes[key];\n",
              "  }\n",
              "  return element;\n",
              "}\n",
              "\n",
              "// Max number of bytes which will be uploaded at a time.\n",
              "const MAX_PAYLOAD_SIZE = 100 * 1024;\n",
              "\n",
              "function _uploadFiles(inputId, outputId) {\n",
              "  const steps = uploadFilesStep(inputId, outputId);\n",
              "  const outputElement = document.getElementById(outputId);\n",
              "  // Cache steps on the outputElement to make it available for the next call\n",
              "  // to uploadFilesContinue from Python.\n",
              "  outputElement.steps = steps;\n",
              "\n",
              "  return _uploadFilesContinue(outputId);\n",
              "}\n",
              "\n",
              "// This is roughly an async generator (not supported in the browser yet),\n",
              "// where there are multiple asynchronous steps and the Python side is going\n",
              "// to poll for completion of each step.\n",
              "// This uses a Promise to block the python side on completion of each step,\n",
              "// then passes the result of the previous step as the input to the next step.\n",
              "function _uploadFilesContinue(outputId) {\n",
              "  const outputElement = document.getElementById(outputId);\n",
              "  const steps = outputElement.steps;\n",
              "\n",
              "  const next = steps.next(outputElement.lastPromiseValue);\n",
              "  return Promise.resolve(next.value.promise).then((value) => {\n",
              "    // Cache the last promise value to make it available to the next\n",
              "    // step of the generator.\n",
              "    outputElement.lastPromiseValue = value;\n",
              "    return next.value.response;\n",
              "  });\n",
              "}\n",
              "\n",
              "/**\n",
              " * Generator function which is called between each async step of the upload\n",
              " * process.\n",
              " * @param {string} inputId Element ID of the input file picker element.\n",
              " * @param {string} outputId Element ID of the output display.\n",
              " * @return {!Iterable<!Object>} Iterable of next steps.\n",
              " */\n",
              "function* uploadFilesStep(inputId, outputId) {\n",
              "  const inputElement = document.getElementById(inputId);\n",
              "  inputElement.disabled = false;\n",
              "\n",
              "  const outputElement = document.getElementById(outputId);\n",
              "  outputElement.innerHTML = '';\n",
              "\n",
              "  const pickedPromise = new Promise((resolve) => {\n",
              "    inputElement.addEventListener('change', (e) => {\n",
              "      resolve(e.target.files);\n",
              "    });\n",
              "  });\n",
              "\n",
              "  const cancel = document.createElement('button');\n",
              "  inputElement.parentElement.appendChild(cancel);\n",
              "  cancel.textContent = 'Cancel upload';\n",
              "  const cancelPromise = new Promise((resolve) => {\n",
              "    cancel.onclick = () => {\n",
              "      resolve(null);\n",
              "    };\n",
              "  });\n",
              "\n",
              "  // Wait for the user to pick the files.\n",
              "  const files = yield {\n",
              "    promise: Promise.race([pickedPromise, cancelPromise]),\n",
              "    response: {\n",
              "      action: 'starting',\n",
              "    }\n",
              "  };\n",
              "\n",
              "  cancel.remove();\n",
              "\n",
              "  // Disable the input element since further picks are not allowed.\n",
              "  inputElement.disabled = true;\n",
              "\n",
              "  if (!files) {\n",
              "    return {\n",
              "      response: {\n",
              "        action: 'complete',\n",
              "      }\n",
              "    };\n",
              "  }\n",
              "\n",
              "  for (const file of files) {\n",
              "    const li = document.createElement('li');\n",
              "    li.append(span(file.name, {fontWeight: 'bold'}));\n",
              "    li.append(span(\n",
              "        `(${file.type || 'n/a'}) - ${file.size} bytes, ` +\n",
              "        `last modified: ${\n",
              "            file.lastModifiedDate ? file.lastModifiedDate.toLocaleDateString() :\n",
              "                                    'n/a'} - `));\n",
              "    const percent = span('0% done');\n",
              "    li.appendChild(percent);\n",
              "\n",
              "    outputElement.appendChild(li);\n",
              "\n",
              "    const fileDataPromise = new Promise((resolve) => {\n",
              "      const reader = new FileReader();\n",
              "      reader.onload = (e) => {\n",
              "        resolve(e.target.result);\n",
              "      };\n",
              "      reader.readAsArrayBuffer(file);\n",
              "    });\n",
              "    // Wait for the data to be ready.\n",
              "    let fileData = yield {\n",
              "      promise: fileDataPromise,\n",
              "      response: {\n",
              "        action: 'continue',\n",
              "      }\n",
              "    };\n",
              "\n",
              "    // Use a chunked sending to avoid message size limits. See b/62115660.\n",
              "    let position = 0;\n",
              "    do {\n",
              "      const length = Math.min(fileData.byteLength - position, MAX_PAYLOAD_SIZE);\n",
              "      const chunk = new Uint8Array(fileData, position, length);\n",
              "      position += length;\n",
              "\n",
              "      const base64 = btoa(String.fromCharCode.apply(null, chunk));\n",
              "      yield {\n",
              "        response: {\n",
              "          action: 'append',\n",
              "          file: file.name,\n",
              "          data: base64,\n",
              "        },\n",
              "      };\n",
              "\n",
              "      let percentDone = fileData.byteLength === 0 ?\n",
              "          100 :\n",
              "          Math.round((position / fileData.byteLength) * 100);\n",
              "      percent.textContent = `${percentDone}% done`;\n",
              "\n",
              "    } while (position < fileData.byteLength);\n",
              "  }\n",
              "\n",
              "  // All done.\n",
              "  yield {\n",
              "    response: {\n",
              "      action: 'complete',\n",
              "    }\n",
              "  };\n",
              "}\n",
              "\n",
              "scope.google = scope.google || {};\n",
              "scope.google.colab = scope.google.colab || {};\n",
              "scope.google.colab._files = {\n",
              "  _uploadFiles,\n",
              "  _uploadFilesContinue,\n",
              "};\n",
              "})(self);\n",
              "</script> "
            ]
          },
          "metadata": {}
        },
        {
          "output_type": "stream",
          "name": "stdout",
          "text": [
            "Saving Lunch.csv to Lunch.csv\n"
          ]
        }
      ]
    },
    {
      "cell_type": "code",
      "source": [
        "import pandas as pd\n",
        "df = pd.read_csv('Lunch.csv')  # Now the file is in Colab's working directory\n",
        "print(df)"
      ],
      "metadata": {
        "colab": {
          "base_uri": "https://localhost:8080/"
        },
        "id": "ve3R7CRAwBOb",
        "outputId": "965d5162-07bd-4111-e92d-16ea19d777c3"
      },
      "execution_count": null,
      "outputs": [
        {
          "output_type": "stream",
          "name": "stdout",
          "text": [
            "    Waiter  total_bill   tip smoker   day   time  size\n",
            "0       10       27.20  4.00     No  Thur  Lunch     4\n",
            "1       10       22.76  3.00     No  Thur  Lunch     2\n",
            "2       11       17.29  2.71     No  Thur  Lunch     2\n",
            "3       11       19.44  3.00    Yes  Thur  Lunch     2\n",
            "4       33       16.66  3.40     No  Thur  Lunch     2\n",
            "5       33       10.07  1.83     No  Thur  Lunch     1\n",
            "6       30       32.68  5.00    Yes  Thur  Lunch     2\n",
            "7       30       15.98  2.03     No  Thur  Lunch     2\n",
            "8       12       34.83  5.17     No  Thur  Lunch     4\n",
            "9       10       13.03  2.00     No  Thur  Lunch     2\n",
            "10      11       18.28  4.00     No  Thur  Lunch     2\n",
            "11      12       24.71  5.85     No  Thur  Lunch     2\n",
            "12      33       21.16  3.00     No  Thur  Lunch     2\n"
          ]
        }
      ]
    },
    {
      "cell_type": "code",
      "source": [
        "from google.colab import files\n",
        "uploaded = files.upload()"
      ],
      "metadata": {
        "colab": {
          "base_uri": "https://localhost:8080/",
          "height": 73
        },
        "id": "_o_vXlobwISg",
        "outputId": "ab8dfa9e-e5d2-4fe2-c99a-beea981810f2"
      },
      "execution_count": null,
      "outputs": [
        {
          "output_type": "display_data",
          "data": {
            "text/plain": [
              "<IPython.core.display.HTML object>"
            ],
            "text/html": [
              "\n",
              "     <input type=\"file\" id=\"files-db8dd9cb-3dfc-42d6-98a2-b691faad6f6c\" name=\"files[]\" multiple disabled\n",
              "        style=\"border:none\" />\n",
              "     <output id=\"result-db8dd9cb-3dfc-42d6-98a2-b691faad6f6c\">\n",
              "      Upload widget is only available when the cell has been executed in the\n",
              "      current browser session. Please rerun this cell to enable.\n",
              "      </output>\n",
              "      <script>// Copyright 2017 Google LLC\n",
              "//\n",
              "// Licensed under the Apache License, Version 2.0 (the \"License\");\n",
              "// you may not use this file except in compliance with the License.\n",
              "// You may obtain a copy of the License at\n",
              "//\n",
              "//      http://www.apache.org/licenses/LICENSE-2.0\n",
              "//\n",
              "// Unless required by applicable law or agreed to in writing, software\n",
              "// distributed under the License is distributed on an \"AS IS\" BASIS,\n",
              "// WITHOUT WARRANTIES OR CONDITIONS OF ANY KIND, either express or implied.\n",
              "// See the License for the specific language governing permissions and\n",
              "// limitations under the License.\n",
              "\n",
              "/**\n",
              " * @fileoverview Helpers for google.colab Python module.\n",
              " */\n",
              "(function(scope) {\n",
              "function span(text, styleAttributes = {}) {\n",
              "  const element = document.createElement('span');\n",
              "  element.textContent = text;\n",
              "  for (const key of Object.keys(styleAttributes)) {\n",
              "    element.style[key] = styleAttributes[key];\n",
              "  }\n",
              "  return element;\n",
              "}\n",
              "\n",
              "// Max number of bytes which will be uploaded at a time.\n",
              "const MAX_PAYLOAD_SIZE = 100 * 1024;\n",
              "\n",
              "function _uploadFiles(inputId, outputId) {\n",
              "  const steps = uploadFilesStep(inputId, outputId);\n",
              "  const outputElement = document.getElementById(outputId);\n",
              "  // Cache steps on the outputElement to make it available for the next call\n",
              "  // to uploadFilesContinue from Python.\n",
              "  outputElement.steps = steps;\n",
              "\n",
              "  return _uploadFilesContinue(outputId);\n",
              "}\n",
              "\n",
              "// This is roughly an async generator (not supported in the browser yet),\n",
              "// where there are multiple asynchronous steps and the Python side is going\n",
              "// to poll for completion of each step.\n",
              "// This uses a Promise to block the python side on completion of each step,\n",
              "// then passes the result of the previous step as the input to the next step.\n",
              "function _uploadFilesContinue(outputId) {\n",
              "  const outputElement = document.getElementById(outputId);\n",
              "  const steps = outputElement.steps;\n",
              "\n",
              "  const next = steps.next(outputElement.lastPromiseValue);\n",
              "  return Promise.resolve(next.value.promise).then((value) => {\n",
              "    // Cache the last promise value to make it available to the next\n",
              "    // step of the generator.\n",
              "    outputElement.lastPromiseValue = value;\n",
              "    return next.value.response;\n",
              "  });\n",
              "}\n",
              "\n",
              "/**\n",
              " * Generator function which is called between each async step of the upload\n",
              " * process.\n",
              " * @param {string} inputId Element ID of the input file picker element.\n",
              " * @param {string} outputId Element ID of the output display.\n",
              " * @return {!Iterable<!Object>} Iterable of next steps.\n",
              " */\n",
              "function* uploadFilesStep(inputId, outputId) {\n",
              "  const inputElement = document.getElementById(inputId);\n",
              "  inputElement.disabled = false;\n",
              "\n",
              "  const outputElement = document.getElementById(outputId);\n",
              "  outputElement.innerHTML = '';\n",
              "\n",
              "  const pickedPromise = new Promise((resolve) => {\n",
              "    inputElement.addEventListener('change', (e) => {\n",
              "      resolve(e.target.files);\n",
              "    });\n",
              "  });\n",
              "\n",
              "  const cancel = document.createElement('button');\n",
              "  inputElement.parentElement.appendChild(cancel);\n",
              "  cancel.textContent = 'Cancel upload';\n",
              "  const cancelPromise = new Promise((resolve) => {\n",
              "    cancel.onclick = () => {\n",
              "      resolve(null);\n",
              "    };\n",
              "  });\n",
              "\n",
              "  // Wait for the user to pick the files.\n",
              "  const files = yield {\n",
              "    promise: Promise.race([pickedPromise, cancelPromise]),\n",
              "    response: {\n",
              "      action: 'starting',\n",
              "    }\n",
              "  };\n",
              "\n",
              "  cancel.remove();\n",
              "\n",
              "  // Disable the input element since further picks are not allowed.\n",
              "  inputElement.disabled = true;\n",
              "\n",
              "  if (!files) {\n",
              "    return {\n",
              "      response: {\n",
              "        action: 'complete',\n",
              "      }\n",
              "    };\n",
              "  }\n",
              "\n",
              "  for (const file of files) {\n",
              "    const li = document.createElement('li');\n",
              "    li.append(span(file.name, {fontWeight: 'bold'}));\n",
              "    li.append(span(\n",
              "        `(${file.type || 'n/a'}) - ${file.size} bytes, ` +\n",
              "        `last modified: ${\n",
              "            file.lastModifiedDate ? file.lastModifiedDate.toLocaleDateString() :\n",
              "                                    'n/a'} - `));\n",
              "    const percent = span('0% done');\n",
              "    li.appendChild(percent);\n",
              "\n",
              "    outputElement.appendChild(li);\n",
              "\n",
              "    const fileDataPromise = new Promise((resolve) => {\n",
              "      const reader = new FileReader();\n",
              "      reader.onload = (e) => {\n",
              "        resolve(e.target.result);\n",
              "      };\n",
              "      reader.readAsArrayBuffer(file);\n",
              "    });\n",
              "    // Wait for the data to be ready.\n",
              "    let fileData = yield {\n",
              "      promise: fileDataPromise,\n",
              "      response: {\n",
              "        action: 'continue',\n",
              "      }\n",
              "    };\n",
              "\n",
              "    // Use a chunked sending to avoid message size limits. See b/62115660.\n",
              "    let position = 0;\n",
              "    do {\n",
              "      const length = Math.min(fileData.byteLength - position, MAX_PAYLOAD_SIZE);\n",
              "      const chunk = new Uint8Array(fileData, position, length);\n",
              "      position += length;\n",
              "\n",
              "      const base64 = btoa(String.fromCharCode.apply(null, chunk));\n",
              "      yield {\n",
              "        response: {\n",
              "          action: 'append',\n",
              "          file: file.name,\n",
              "          data: base64,\n",
              "        },\n",
              "      };\n",
              "\n",
              "      let percentDone = fileData.byteLength === 0 ?\n",
              "          100 :\n",
              "          Math.round((position / fileData.byteLength) * 100);\n",
              "      percent.textContent = `${percentDone}% done`;\n",
              "\n",
              "    } while (position < fileData.byteLength);\n",
              "  }\n",
              "\n",
              "  // All done.\n",
              "  yield {\n",
              "    response: {\n",
              "      action: 'complete',\n",
              "    }\n",
              "  };\n",
              "}\n",
              "\n",
              "scope.google = scope.google || {};\n",
              "scope.google.colab = scope.google.colab || {};\n",
              "scope.google.colab._files = {\n",
              "  _uploadFiles,\n",
              "  _uploadFilesContinue,\n",
              "};\n",
              "})(self);\n",
              "</script> "
            ]
          },
          "metadata": {}
        },
        {
          "output_type": "stream",
          "name": "stdout",
          "text": [
            "Saving Waiters.csv to Waiters.csv\n"
          ]
        }
      ]
    },
    {
      "cell_type": "code",
      "source": [
        "import pandas as pd\n",
        "df = pd.read_csv('Waiters.csv')  # Now the file is in Colab's working directory\n",
        "print(df)"
      ],
      "metadata": {
        "colab": {
          "base_uri": "https://localhost:8080/"
        },
        "id": "2dHx1b5kwOKr",
        "outputId": "194daa7e-1d8c-4a47-9057-8c2688325396"
      },
      "execution_count": null,
      "outputs": [
        {
          "output_type": "stream",
          "name": "stdout",
          "text": [
            "   Waiter       type\n",
            "0      10  full time\n",
            "1      11  part time\n",
            "2      33  full time\n",
            "3      30  full time\n",
            "4      12  part time\n",
            "5      20  part time\n"
          ]
        }
      ]
    },
    {
      "cell_type": "code",
      "source": [
        "import pandas as pd\n",
        "df = pd.read_csv('Dinner.csv')\n",
        "print(df.head())"
      ],
      "metadata": {
        "colab": {
          "base_uri": "https://localhost:8080/"
        },
        "id": "LfzenluzwU7c",
        "outputId": "df31e925-2538-4b1b-8c5c-e6ec56352e46"
      },
      "execution_count": null,
      "outputs": [
        {
          "output_type": "stream",
          "name": "stdout",
          "text": [
            "   Waiter  total_bill   tip smoker  day    time  size\n",
            "0      10       16.99  1.01     No  Sun  Dinner     2\n",
            "1      10       10.34  1.66     No  Sun  Dinner     3\n",
            "2      11       21.01  3.50     No  Sun  Dinner     3\n",
            "3      11       23.68  3.31     No  Sun  Dinner     2\n",
            "4      22       24.59  3.61     No  Sun  Dinner     4\n"
          ]
        }
      ]
    },
    {
      "cell_type": "code",
      "source": [
        "import pandas as pd\n",
        "df = pd.read_csv('Lunch.csv')\n",
        "print(df.head())"
      ],
      "metadata": {
        "colab": {
          "base_uri": "https://localhost:8080/"
        },
        "id": "O3lRLL-BwkBq",
        "outputId": "9b8019d2-3c42-45e4-abb4-67c0061665ca"
      },
      "execution_count": null,
      "outputs": [
        {
          "output_type": "stream",
          "name": "stdout",
          "text": [
            "   Waiter  total_bill   tip smoker   day   time  size\n",
            "0      10       27.20  4.00     No  Thur  Lunch     4\n",
            "1      10       22.76  3.00     No  Thur  Lunch     2\n",
            "2      11       17.29  2.71     No  Thur  Lunch     2\n",
            "3      11       19.44  3.00    Yes  Thur  Lunch     2\n",
            "4      33       16.66  3.40     No  Thur  Lunch     2\n"
          ]
        }
      ]
    },
    {
      "cell_type": "code",
      "source": [
        "import pandas as pd\n",
        "df = pd.read_csv('Waiters.csv')\n",
        "print(df.head())"
      ],
      "metadata": {
        "colab": {
          "base_uri": "https://localhost:8080/"
        },
        "id": "mMAPZLkGwuT9",
        "outputId": "833e9ef2-a770-4e31-c1eb-298a32e5cbaa"
      },
      "execution_count": null,
      "outputs": [
        {
          "output_type": "stream",
          "name": "stdout",
          "text": [
            "   Waiter       type\n",
            "0      10  full time\n",
            "1      11  part time\n",
            "2      33  full time\n",
            "3      30  full time\n",
            "4      12  part time\n"
          ]
        }
      ]
    },
    {
      "cell_type": "code",
      "source": [
        "import pandas as pd\n",
        "df = pd.read_csv('Waiters.csv')\n",
        "print(df.tail())"
      ],
      "metadata": {
        "colab": {
          "base_uri": "https://localhost:8080/"
        },
        "id": "QHMWDjp9w-DD",
        "outputId": "14e87a7c-646b-47fe-adfc-7c0ed31b7e15"
      },
      "execution_count": null,
      "outputs": [
        {
          "output_type": "stream",
          "name": "stdout",
          "text": [
            "   Waiter       type\n",
            "1      11  part time\n",
            "2      33  full time\n",
            "3      30  full time\n",
            "4      12  part time\n",
            "5      20  part time\n"
          ]
        }
      ]
    },
    {
      "cell_type": "code",
      "source": [
        "import pandas as pd\n",
        "df = pd.read_csv('Dinner.csv')\n",
        "print(df.tail())"
      ],
      "metadata": {
        "colab": {
          "base_uri": "https://localhost:8080/"
        },
        "id": "xxsagC5CxHee",
        "outputId": "9639bf56-ee91-48cf-fb2a-4a1c62bdfa59"
      },
      "execution_count": null,
      "outputs": [
        {
          "output_type": "stream",
          "name": "stdout",
          "text": [
            "    Waiter  total_bill   tip smoker  day    time  size\n",
            "20      11       17.92  4.08     No  Sat  Dinner     2\n",
            "21      11       20.29  2.75     No  Sat  Dinner     2\n",
            "22      10       15.77  2.23     No  Sat  Dinner     2\n",
            "23      33       39.42  7.58     No  Sat  Dinner     4\n",
            "24      33       19.82  3.18     No  Sat  Dinner     2\n"
          ]
        }
      ]
    },
    {
      "cell_type": "code",
      "source": [
        "import pandas as pd\n",
        "df = pd.read_csv('Lunch.csv')\n",
        "print(df.tail())"
      ],
      "metadata": {
        "colab": {
          "base_uri": "https://localhost:8080/"
        },
        "id": "93xhsIwhxMRx",
        "outputId": "1564079c-3d74-433e-aac1-9679a38be0b5"
      },
      "execution_count": null,
      "outputs": [
        {
          "output_type": "stream",
          "name": "stdout",
          "text": [
            "    Waiter  total_bill   tip smoker   day   time  size\n",
            "8       12       34.83  5.17     No  Thur  Lunch     4\n",
            "9       10       13.03  2.00     No  Thur  Lunch     2\n",
            "10      11       18.28  4.00     No  Thur  Lunch     2\n",
            "11      12       24.71  5.85     No  Thur  Lunch     2\n",
            "12      33       21.16  3.00     No  Thur  Lunch     2\n"
          ]
        }
      ]
    },
    {
      "cell_type": "code",
      "source": [
        "import pandas as pd\n",
        "df = pd.read_csv('Dinner.csv')\n",
        "print(df.shape)"
      ],
      "metadata": {
        "colab": {
          "base_uri": "https://localhost:8080/"
        },
        "id": "rEpCZPmbxuLU",
        "outputId": "a2d248d5-372b-4f8b-ac12-14105062803f"
      },
      "execution_count": null,
      "outputs": [
        {
          "output_type": "stream",
          "name": "stdout",
          "text": [
            "(25, 7)\n"
          ]
        }
      ]
    },
    {
      "cell_type": "code",
      "source": [
        "import pandas as pd\n",
        "df = pd.read_csv('Lunch.csv')\n",
        "print(df.shape)"
      ],
      "metadata": {
        "colab": {
          "base_uri": "https://localhost:8080/"
        },
        "id": "umX4OY8lxjMH",
        "outputId": "01e8ea2d-a6e9-4f9e-bfdd-bb2294e1b8ca"
      },
      "execution_count": null,
      "outputs": [
        {
          "output_type": "stream",
          "name": "stdout",
          "text": [
            "(13, 7)\n"
          ]
        }
      ]
    },
    {
      "cell_type": "code",
      "source": [
        "import pandas as pd\n",
        "df = pd.read_csv('Waiters.csv')\n",
        "print(df.shape)"
      ],
      "metadata": {
        "colab": {
          "base_uri": "https://localhost:8080/"
        },
        "id": "K_rRV-eYxyFh",
        "outputId": "4dacb36d-7b62-49c9-8068-4c4670758ef5"
      },
      "execution_count": null,
      "outputs": [
        {
          "output_type": "stream",
          "name": "stdout",
          "text": [
            "(6, 2)\n"
          ]
        }
      ]
    },
    {
      "cell_type": "code",
      "source": [
        "import pandas as pd\n",
        "df = pd.read_csv('Dinner.csv')\n",
        "print(df.info())"
      ],
      "metadata": {
        "colab": {
          "base_uri": "https://localhost:8080/"
        },
        "id": "7-Nh-gJIyLDm",
        "outputId": "e0a790b7-53a6-4848-ab55-23d586f1d745"
      },
      "execution_count": null,
      "outputs": [
        {
          "output_type": "stream",
          "name": "stdout",
          "text": [
            "<class 'pandas.core.frame.DataFrame'>\n",
            "RangeIndex: 25 entries, 0 to 24\n",
            "Data columns (total 7 columns):\n",
            " #   Column      Non-Null Count  Dtype  \n",
            "---  ------      --------------  -----  \n",
            " 0   Waiter      25 non-null     int64  \n",
            " 1   total_bill  25 non-null     float64\n",
            " 2   tip         25 non-null     float64\n",
            " 3   smoker      25 non-null     object \n",
            " 4   day         25 non-null     object \n",
            " 5   time        25 non-null     object \n",
            " 6   size        25 non-null     int64  \n",
            "dtypes: float64(2), int64(2), object(3)\n",
            "memory usage: 1.5+ KB\n",
            "None\n"
          ]
        }
      ]
    },
    {
      "cell_type": "code",
      "source": [
        "import pandas as pd\n",
        "df = pd.read_csv('Lunch.csv')\n",
        "print(df.info())"
      ],
      "metadata": {
        "colab": {
          "base_uri": "https://localhost:8080/"
        },
        "id": "i_zLMtVMyzXN",
        "outputId": "610b44d0-1846-4f9f-9795-40de7a3a3a3e"
      },
      "execution_count": null,
      "outputs": [
        {
          "output_type": "stream",
          "name": "stdout",
          "text": [
            "<class 'pandas.core.frame.DataFrame'>\n",
            "RangeIndex: 13 entries, 0 to 12\n",
            "Data columns (total 7 columns):\n",
            " #   Column      Non-Null Count  Dtype  \n",
            "---  ------      --------------  -----  \n",
            " 0   Waiter      13 non-null     int64  \n",
            " 1   total_bill  13 non-null     float64\n",
            " 2   tip         13 non-null     float64\n",
            " 3   smoker      13 non-null     object \n",
            " 4   day         13 non-null     object \n",
            " 5   time        13 non-null     object \n",
            " 6   size        13 non-null     int64  \n",
            "dtypes: float64(2), int64(2), object(3)\n",
            "memory usage: 860.0+ bytes\n",
            "None\n"
          ]
        }
      ]
    },
    {
      "cell_type": "code",
      "source": [
        "import pandas as pd\n",
        "df = pd.read_csv('Waiters.csv')\n",
        "print(df.info())"
      ],
      "metadata": {
        "colab": {
          "base_uri": "https://localhost:8080/"
        },
        "id": "_HeTqJYgy7yT",
        "outputId": "2da2f8d4-b4ae-4be3-c25c-66b393d14509"
      },
      "execution_count": null,
      "outputs": [
        {
          "output_type": "stream",
          "name": "stdout",
          "text": [
            "<class 'pandas.core.frame.DataFrame'>\n",
            "RangeIndex: 6 entries, 0 to 5\n",
            "Data columns (total 2 columns):\n",
            " #   Column  Non-Null Count  Dtype \n",
            "---  ------  --------------  ----- \n",
            " 0   Waiter  6 non-null      int64 \n",
            " 1   type    6 non-null      object\n",
            "dtypes: int64(1), object(1)\n",
            "memory usage: 228.0+ bytes\n",
            "None\n"
          ]
        }
      ]
    },
    {
      "cell_type": "code",
      "source": [
        "import pandas as pd\n",
        "df = pd.DataFrame({'col_1': list(range(1, 11)), 'col_2':\n",
        "list(range(11, 21)), 'col_3': list(range(21, 31)), 'col_4':\n",
        "list(range(31, 41)), 'col_5': list(range(41, 51)), 'col_6':\n",
        "list(range(51, 61)), 'col_7': list(range(61, 71)), 'col_8':\n",
        "list(range(71, 81)), 'col_9': list(range(81, 91))})\n",
        "print(df)"
      ],
      "metadata": {
        "colab": {
          "base_uri": "https://localhost:8080/"
        },
        "id": "Uy2nhLfFzKlG",
        "outputId": "d34b6788-6313-4ef0-d1cc-bdd4e4d6b0cb"
      },
      "execution_count": null,
      "outputs": [
        {
          "output_type": "stream",
          "name": "stdout",
          "text": [
            "   col_1  col_2  col_3  col_4  col_5  col_6  col_7  col_8  col_9\n",
            "0      1     11     21     31     41     51     61     71     81\n",
            "1      2     12     22     32     42     52     62     72     82\n",
            "2      3     13     23     33     43     53     63     73     83\n",
            "3      4     14     24     34     44     54     64     74     84\n",
            "4      5     15     25     35     45     55     65     75     85\n",
            "5      6     16     26     36     46     56     66     76     86\n",
            "6      7     17     27     37     47     57     67     77     87\n",
            "7      8     18     28     38     48     58     68     78     88\n",
            "8      9     19     29     39     49     59     69     79     89\n",
            "9     10     20     30     40     50     60     70     80     90\n"
          ]
        }
      ]
    },
    {
      "cell_type": "code",
      "source": [
        "import pandas as pd\n",
        "df = pd.DataFrame({'col_1': list(range(1, 11)), 'col_2':\n",
        "list(range(11, 21)), 'col_3': list(range(21, 31)), 'col_4':\n",
        "list(range(31, 41)), 'col_5': list(range(41, 51)), 'col_6':\n",
        "list(range(51, 61)), 'col_7': list(range(61, 71)), 'col_8':\n",
        "list(range(71, 81)), 'col_9': list(range(81, 91))})\n",
        "print(df.columns)\n",
        "print(df.index)\n",
        "print(df[['col_5', 'col_1', 'col_8']])\n",
        "print(df[['col_5', 'col_1', 'col_8', 'col_9']])\n",
        "# error becuase 100 not in print(df[['col_5', 'col_1', 'col_8', 'col_100']])\n",
        "print(df.loc[0])\n",
        "print(df.loc[1])\n"
      ],
      "metadata": {
        "colab": {
          "base_uri": "https://localhost:8080/"
        },
        "id": "jL-E4av_zeTS",
        "outputId": "dd862bb0-0ecd-43bb-a8f8-a269d8f0df08"
      },
      "execution_count": null,
      "outputs": [
        {
          "output_type": "stream",
          "name": "stdout",
          "text": [
            "Index(['col_1', 'col_2', 'col_3', 'col_4', 'col_5', 'col_6', 'col_7', 'col_8',\n",
            "       'col_9'],\n",
            "      dtype='object')\n",
            "RangeIndex(start=0, stop=10, step=1)\n",
            "   col_5  col_1  col_8\n",
            "0     41      1     71\n",
            "1     42      2     72\n",
            "2     43      3     73\n",
            "3     44      4     74\n",
            "4     45      5     75\n",
            "5     46      6     76\n",
            "6     47      7     77\n",
            "7     48      8     78\n",
            "8     49      9     79\n",
            "9     50     10     80\n",
            "   col_5  col_1  col_8  col_9\n",
            "0     41      1     71     81\n",
            "1     42      2     72     82\n",
            "2     43      3     73     83\n",
            "3     44      4     74     84\n",
            "4     45      5     75     85\n",
            "5     46      6     76     86\n",
            "6     47      7     77     87\n",
            "7     48      8     78     88\n",
            "8     49      9     79     89\n",
            "9     50     10     80     90\n",
            "col_1     1\n",
            "col_2    11\n",
            "col_3    21\n",
            "col_4    31\n",
            "col_5    41\n",
            "col_6    51\n",
            "col_7    61\n",
            "col_8    71\n",
            "col_9    81\n",
            "Name: 0, dtype: int64\n",
            "col_1     2\n",
            "col_2    12\n",
            "col_3    22\n",
            "col_4    32\n",
            "col_5    42\n",
            "col_6    52\n",
            "col_7    62\n",
            "col_8    72\n",
            "col_9    82\n",
            "Name: 1, dtype: int64\n"
          ]
        }
      ]
    },
    {
      "cell_type": "code",
      "source": [
        "import pandas as pd\n",
        "df.index = ['row_1', 'row_2', 'row_3', 'row_4', 'row_5', 'row_6',\n",
        "'row_7', 'row_8', 'row_9', 'row_10']\n",
        "print(df.loc[['row_6', 'row_2', 'row_9']])\n",
        "# error becuse no 100 row print(df.loc[['row_6', 'row_2', 'row_9', 'row_100']])\n",
        "print(df.loc['row_7':'row_9'])"
      ],
      "metadata": {
        "colab": {
          "base_uri": "https://localhost:8080/"
        },
        "id": "Dr1LZ1SA0sPq",
        "outputId": "e0e04ca5-cc6a-4ada-c428-6c6e836adf0d"
      },
      "execution_count": null,
      "outputs": [
        {
          "output_type": "stream",
          "name": "stdout",
          "text": [
            "       col_1  col_2  col_3  col_4  col_5  col_6  col_7  col_8  col_9\n",
            "row_6      6     16     26     36     46     56     66     76     86\n",
            "row_2      2     12     22     32     42     52     62     72     82\n",
            "row_9      9     19     29     39     49     59     69     79     89\n",
            "       col_1  col_2  col_3  col_4  col_5  col_6  col_7  col_8  col_9\n",
            "row_7      7     17     27     37     47     57     67     77     87\n",
            "row_8      8     18     28     38     48     58     68     78     88\n",
            "row_9      9     19     29     39     49     59     69     79     89\n"
          ]
        }
      ]
    },
    {
      "cell_type": "code",
      "source": [
        "# Task 1.1: Print the first 4 rows using the slicing method.\n",
        "print(df[:4])  # Slicing method to get the first 4 rows\n",
        "\n"
      ],
      "metadata": {
        "colab": {
          "base_uri": "https://localhost:8080/"
        },
        "id": "20iv_Is21Aqv",
        "outputId": "c873a52c-520a-4f30-fb07-b65f5f525fc8"
      },
      "execution_count": null,
      "outputs": [
        {
          "output_type": "stream",
          "name": "stdout",
          "text": [
            "       col_1  col_2  col_3  col_4  col_5  col_6  col_7  col_8  col_9\n",
            "row_1      1     11     21     31     41     51     61     71     81\n",
            "row_2      2     12     22     32     42     52     62     72     82\n",
            "row_3      3     13     23     33     43     53     63     73     83\n",
            "row_4      4     14     24     34     44     54     64     74     84\n"
          ]
        }
      ]
    },
    {
      "cell_type": "code",
      "source": [
        "#Task 1.2: Print the last row with columns from col_5 to col_7.\n",
        "print(df.iloc[-1, 4:7])  # -1 selects the last row, and 4:7 selects col_5 to col_7\n"
      ],
      "metadata": {
        "colab": {
          "base_uri": "https://localhost:8080/"
        },
        "id": "7dOYfLk31ZBM",
        "outputId": "0ab98adc-a5ac-4eb4-8a2b-9e79c3cc67f4"
      },
      "execution_count": null,
      "outputs": [
        {
          "output_type": "stream",
          "name": "stdout",
          "text": [
            "col_5    50\n",
            "col_6    60\n",
            "col_7    70\n",
            "Name: row_10, dtype: int64\n"
          ]
        }
      ]
    },
    {
      "cell_type": "code",
      "source": [
        "df.at['row_6', 'col_3']\n",
        "print(df[3:6])\n",
        "print(df.iloc[3])\n",
        "print(df.iloc[[9, 8, 7]])\n",
        "print(df.iloc[0, [2, 8, 3]])\n",
        "# NameError: name 'Print' is not defined Print(df.iat[1, 2])"
      ],
      "metadata": {
        "colab": {
          "base_uri": "https://localhost:8080/"
        },
        "id": "_yxXh3sp1uJy",
        "outputId": "da48f918-e7f4-4919-b287-ffd82c2813ca"
      },
      "execution_count": null,
      "outputs": [
        {
          "output_type": "stream",
          "name": "stdout",
          "text": [
            "       col_1  col_2  col_3  col_4  col_5  col_6  col_7  col_8  col_9\n",
            "row_4      4     14     24     34     44     54     64     74     84\n",
            "row_5      5     15     25     35     45     55     65     75     85\n",
            "row_6      6     16     26     36     46     56     66     76     86\n",
            "col_1     4\n",
            "col_2    14\n",
            "col_3    24\n",
            "col_4    34\n",
            "col_5    44\n",
            "col_6    54\n",
            "col_7    64\n",
            "col_8    74\n",
            "col_9    84\n",
            "Name: row_4, dtype: int64\n",
            "        col_1  col_2  col_3  col_4  col_5  col_6  col_7  col_8  col_9\n",
            "row_10     10     20     30     40     50     60     70     80     90\n",
            "row_9       9     19     29     39     49     59     69     79     89\n",
            "row_8       8     18     28     38     48     58     68     78     88\n",
            "col_3    21\n",
            "col_9    81\n",
            "col_4    31\n",
            "Name: row_1, dtype: int64\n"
          ]
        }
      ]
    },
    {
      "cell_type": "code",
      "source": [
        "#Task 1.3: Use iloc with position-based indexing to select rows 8, and 1 and columns 5 to 9.\n",
        "print(df.iloc[[8, 1], 5:10])  # Selecting rows 8 and 1, columns 5 to 9\n"
      ],
      "metadata": {
        "colab": {
          "base_uri": "https://localhost:8080/"
        },
        "id": "0prQiIbD1-hv",
        "outputId": "594808e8-f3c4-4300-f42a-e607ad157e3d"
      },
      "execution_count": null,
      "outputs": [
        {
          "output_type": "stream",
          "name": "stdout",
          "text": [
            "       col_6  col_7  col_8  col_9\n",
            "row_9     59     69     79     89\n",
            "row_2     52     62     72     82\n"
          ]
        }
      ]
    },
    {
      "cell_type": "code",
      "source": [
        "# Task 1.4: Use iloc with position-based indexing to select all rows and columns 1, 3, and 7.\n",
        "print(df.iloc[:, [1, 3, 7]])  # Select all rows (:) and specific columns [1, 3, 7]\n"
      ],
      "metadata": {
        "colab": {
          "base_uri": "https://localhost:8080/"
        },
        "id": "PBJQjZxm2TfS",
        "outputId": "9c50e5dd-3cd7-4b63-92c1-55a7df3003ed"
      },
      "execution_count": null,
      "outputs": [
        {
          "output_type": "stream",
          "name": "stdout",
          "text": [
            "        col_2  col_4  col_8\n",
            "row_1      11     31     71\n",
            "row_2      12     32     72\n",
            "row_3      13     33     73\n",
            "row_4      14     34     74\n",
            "row_5      15     35     75\n",
            "row_6      16     36     76\n",
            "row_7      17     37     77\n",
            "row_8      18     38     78\n",
            "row_9      19     39     79\n",
            "row_10     20     40     80\n"
          ]
        }
      ]
    },
    {
      "cell_type": "code",
      "source": [
        "#Task 1.5: Select all rows where col_2 is NOT greater than 15\n",
        "print(df[df['col_2'] <= 15])\n"
      ],
      "metadata": {
        "colab": {
          "base_uri": "https://localhost:8080/"
        },
        "id": "t8Qs0Qzz22hC",
        "outputId": "90a3a1ab-f1fd-4964-ad40-6d65ba36f5bf"
      },
      "execution_count": null,
      "outputs": [
        {
          "output_type": "stream",
          "name": "stdout",
          "text": [
            "       col_1  col_2  col_3  col_4  col_5  col_6  col_7  col_8  col_9\n",
            "row_1      1     11     21     31     41     51     61     71     81\n",
            "row_2      2     12     22     32     42     52     62     72     82\n",
            "row_3      3     13     23     33     43     53     63     73     83\n",
            "row_4      4     14     24     34     44     54     64     74     84\n",
            "row_5      5     15     25     35     45     55     65     75     85\n"
          ]
        }
      ]
    },
    {
      "cell_type": "code",
      "source": [
        "#Task 1.6: Select all rows where col_2 is greater than 15 but not equal to 19\n",
        "print(df[(df['col_2'] > 15) & (df['col_2'] != 19)])\n"
      ],
      "metadata": {
        "colab": {
          "base_uri": "https://localhost:8080/"
        },
        "id": "dDi1DbEY5k7H",
        "outputId": "167c78a6-f8e6-4eb0-fd12-445b49a52095"
      },
      "execution_count": null,
      "outputs": [
        {
          "output_type": "stream",
          "name": "stdout",
          "text": [
            "        col_1  col_2  col_3  col_4  col_5  col_6  col_7  col_8  col_9\n",
            "row_6       6     16     26     36     46     56     66     76     86\n",
            "row_7       7     17     27     37     47     57     67     77     87\n",
            "row_8       8     18     28     38     48     58     68     78     88\n",
            "row_10     10     20     30     40     50     60     70     80     90\n"
          ]
        }
      ]
    },
    {
      "cell_type": "code",
      "source": [
        "import pandas as pd\n",
        "# Create a sample dataframe\n",
        "Biodata = {'Name': ['Ahmad', 'Ali', 'Omar', 'Hamzah'],\n",
        "\n",
        "'Age': [28, 23, 35, 31],\n",
        "'Gender': ['M', 'F', 'M', 'F']\n",
        "}\n",
        "\n",
        "df = pd.DataFrame(Biodata)\n",
        "# Save the dataframe to a CSV file\n",
        "df.to_csv('Biodata.csv', index=False)"
      ],
      "metadata": {
        "id": "k7k0J4Dq5rFi"
      },
      "execution_count": null,
      "outputs": []
    },
    {
      "cell_type": "code",
      "source": [
        "# Task 1.7: Save the above dataframe using tab-separated values\n",
        "import pandas as pd\n",
        "\n",
        "# Create a sample dataframe\n",
        "Biodata = {'Name': ['Ahmad', 'Ali', 'Omar', 'Hamzah'],\n",
        "           'Age': [28, 23, 35, 31],\n",
        "           'Gender': ['M', 'F', 'M', 'F']}\n",
        "\n",
        "df = pd.DataFrame(Biodata)\n",
        "\n",
        "# Save the dataframe to a TSV file\n",
        "df.to_csv('Biodata.tsv', sep='\\t', index=False)\n"
      ],
      "metadata": {
        "id": "qy4XEeA79YZF"
      },
      "execution_count": null,
      "outputs": []
    },
    {
      "cell_type": "code",
      "source": [
        "import pandas as pd\n",
        "# Define a dictionary containing Students data\n",
        "data = {'Name': ['Ahmad', 'Ali', 'Omar', 'Hamzah'],\n",
        "\n",
        "'Height': [5.1, 6.2, 5.1, 5.2],\n",
        "'Qualification': ['Msc', 'MA', 'Msc', 'Msc']}\n",
        "\n",
        "# Convert the dictionary into DataFrame\n",
        "df = pd.DataFrame(data)\n",
        "print(df)\n",
        "# Declare a list that is to be converted into a column\n",
        "address = ['Nablus', 'Alquds', 'Gaza', 'Haifa']\n",
        "# Using 'Address' as the column name and equating it to the list\n",
        "df['Address'] = address\n",
        "# Observe the result\n",
        "print(df)"
      ],
      "metadata": {
        "colab": {
          "base_uri": "https://localhost:8080/"
        },
        "id": "KbFqk1Fs9wdQ",
        "outputId": "70fa9ef5-945c-4137-8aaf-0f05a1f9ccdb"
      },
      "execution_count": null,
      "outputs": [
        {
          "output_type": "stream",
          "name": "stdout",
          "text": [
            "     Name  Height Qualification\n",
            "0   Ahmad     5.1           Msc\n",
            "1     Ali     6.2            MA\n",
            "2    Omar     5.1           Msc\n",
            "3  Hamzah     5.2           Msc\n",
            "     Name  Height Qualification Address\n",
            "0   Ahmad     5.1           Msc  Nablus\n",
            "1     Ali     6.2            MA  Alquds\n",
            "2    Omar     5.1           Msc    Gaza\n",
            "3  Hamzah     5.2           Msc   Haifa\n"
          ]
        }
      ]
    },
    {
      "cell_type": "code",
      "source": [
        "# Task 1.8: Add a new column (on the dataframe above) named Age with the following values [21, 23, 24, 21] and make it the third column.\n",
        "import pandas as pd\n",
        "\n",
        "# Create a sample dataframe\n",
        "Biodata = {'Name': ['Ahmad', 'Ali', 'Omar', 'Hamzah'],\n",
        "           'Age': [28, 23, 35, 31],\n",
        "           'Gender': ['M', 'F', 'M', 'F']}\n",
        "\n",
        "df = pd.DataFrame(Biodata)\n",
        "\n",
        "# Add a new column 'Age' with the specified values\n",
        "df['Age'] = [21, 23, 24, 21]\n",
        "\n",
        "# Rearrange the columns to make 'Age' the third column\n",
        "df = df[['Name', 'Gender', 'Age']]\n",
        "\n",
        "print(df)\n",
        "\n"
      ],
      "metadata": {
        "colab": {
          "base_uri": "https://localhost:8080/"
        },
        "id": "WO6KmgcG981j",
        "outputId": "bfb19c76-8773-455a-9908-6597a42854f2"
      },
      "execution_count": null,
      "outputs": [
        {
          "output_type": "stream",
          "name": "stdout",
          "text": [
            "     Name Gender  Age\n",
            "0   Ahmad      M   21\n",
            "1     Ali      F   23\n",
            "2    Omar      M   24\n",
            "3  Hamzah      F   21\n"
          ]
        }
      ]
    },
    {
      "cell_type": "code",
      "source": [
        "#Remove coulm\n",
        "import pandas as pd\n",
        "# Define a dictionary containing Students data\n",
        "data = {'Name': ['Ahmad', 'Ali', 'Omar', 'Hamzah'],'Height': [5.1, 6.2, 5.1, 5.2],\n",
        "'Qualification': ['Msc', 'MA', 'Msc', 'Msc'],\n",
        "'Age': [21, 23, 24, 21]}\n",
        "# Convert the dictionary into DataFrame\n",
        "df = pd.DataFrame(data)\n",
        "print(df)\n",
        "# dropping passed columns\n",
        "df1 = df.drop([\"Height\"], axis = 1)\n",
        "# Observe the result\n",
        "print(df)\n",
        "print(df1)"
      ],
      "metadata": {
        "colab": {
          "base_uri": "https://localhost:8080/"
        },
        "id": "J2XigNS5-ogU",
        "outputId": "9b1a8b0a-2b00-4ba3-f251-c6e6016169f7"
      },
      "execution_count": null,
      "outputs": [
        {
          "output_type": "stream",
          "name": "stdout",
          "text": [
            "     Name  Height Qualification  Age\n",
            "0   Ahmad     5.1           Msc   21\n",
            "1     Ali     6.2            MA   23\n",
            "2    Omar     5.1           Msc   24\n",
            "3  Hamzah     5.2           Msc   21\n",
            "     Name  Height Qualification  Age\n",
            "0   Ahmad     5.1           Msc   21\n",
            "1     Ali     6.2            MA   23\n",
            "2    Omar     5.1           Msc   24\n",
            "3  Hamzah     5.2           Msc   21\n",
            "     Name Qualification  Age\n",
            "0   Ahmad           Msc   21\n",
            "1     Ali            MA   23\n",
            "2    Omar           Msc   24\n",
            "3  Hamzah           Msc   21\n"
          ]
        }
      ]
    },
    {
      "cell_type": "code",
      "source": [
        "# Task 1.9: Remove column Height and column Age from the existing referring dataframe.\n",
        "import pandas as pd\n",
        "\n",
        "# Create a sample dataframe\n",
        "Biodata = {'Name': ['Ahmad', 'Ali', 'Omar', 'Hamzah'],\n",
        "           'Age': [28, 23, 35, 31],\n",
        "           'Gender': ['M', 'F', 'M', 'F'],\n",
        "           'Height': [170, 165, 180, 175]}  # Assume 'Height' column exists\n",
        "\n",
        "df = pd.DataFrame(Biodata)\n",
        "\n",
        "# Remove the columns 'Height' and 'Age'\n",
        "df = df.drop(columns=['Height', 'Age'])\n",
        "\n",
        "print(df)\n"
      ],
      "metadata": {
        "colab": {
          "base_uri": "https://localhost:8080/"
        },
        "id": "LEhrlIr3_OdY",
        "outputId": "85c61374-2ce7-47cd-cea9-6e49861e628e"
      },
      "execution_count": null,
      "outputs": [
        {
          "output_type": "stream",
          "name": "stdout",
          "text": [
            "     Name Gender\n",
            "0   Ahmad      M\n",
            "1     Ali      F\n",
            "2    Omar      M\n",
            "3  Hamzah      F\n"
          ]
        }
      ]
    },
    {
      "cell_type": "code",
      "source": [
        "# Example 16: Adding a new row to the end of the Pandas DataFrame.\n",
        "import pandas as pd\n",
        "technologies= {\n",
        "'Courses':[\"Spark\",\"PySpark\",\"Hadoop\",\"Python\",\"Pandas\"],\n",
        "'Fee' :[22000,25000,23000,24000,26000],\n",
        "'Duration':['30days','50days','35days', '40days','55days'],\n",
        "'Discount':[1000,2300,1000,1200,2500]\n",
        "}\n",
        "\n",
        "df = pd.DataFrame(technologies)\n",
        "print(df)\n",
        "# New list to append Row to DataFrame\n",
        "list = [\"Hyperion\", 27000, \"60days\", 2000]\n",
        "df.loc[len(df)] = list\n",
        "print(df)"
      ],
      "metadata": {
        "colab": {
          "base_uri": "https://localhost:8080/"
        },
        "id": "nuCfvOTN_jwj",
        "outputId": "f82d9e09-9cdc-4aac-f62d-7825af782554"
      },
      "execution_count": null,
      "outputs": [
        {
          "output_type": "stream",
          "name": "stdout",
          "text": [
            "   Courses    Fee Duration  Discount\n",
            "0    Spark  22000   30days      1000\n",
            "1  PySpark  25000   50days      2300\n",
            "2   Hadoop  23000   35days      1000\n",
            "3   Python  24000   40days      1200\n",
            "4   Pandas  26000   55days      2500\n",
            "    Courses    Fee Duration  Discount\n",
            "0     Spark  22000   30days      1000\n",
            "1   PySpark  25000   50days      2300\n",
            "2    Hadoop  23000   35days      1000\n",
            "3    Python  24000   40days      1200\n",
            "4    Pandas  26000   55days      2500\n",
            "5  Hyperion  27000   60days      2000\n"
          ]
        }
      ]
    },
    {
      "cell_type": "code",
      "source": [
        "import pandas as pd\n",
        "\n",
        "# Create a sample dataframe\n",
        "Biodata = {'Name': ['Ahmad', 'Ali', 'Omar', 'Hamzah'],\n",
        "           'Age': [28, 23, 35, 31],\n",
        "           'Gender': ['M', 'F', 'M', 'F']}\n",
        "\n",
        "df = pd.DataFrame(Biodata)\n",
        "\n",
        "# Define the new row to insert (at second position)\n",
        "new_row = {'Name': 'Zain', 'Age': 25, 'Gender': 'M'}\n",
        "\n",
        "# Insert the new row into the second position using .iloc\n",
        "df1 = pd.DataFrame([new_row])  # Convert the new row to a DataFrame\n",
        "df = pd.concat([df.iloc[:1], df1, df.iloc[1:]], ignore_index=True)\n",
        "\n",
        "print(df)\n"
      ],
      "metadata": {
        "colab": {
          "base_uri": "https://localhost:8080/"
        },
        "id": "YiCnr98uAXiP",
        "outputId": "d104fe12-14ff-47ee-ba00-8f44b9cd0053"
      },
      "execution_count": null,
      "outputs": [
        {
          "output_type": "stream",
          "name": "stdout",
          "text": [
            "     Name  Age Gender\n",
            "0   Ahmad   28      M\n",
            "1    Zain   25      M\n",
            "2     Ali   23      F\n",
            "3    Omar   35      M\n",
            "4  Hamzah   31      F\n"
          ]
        }
      ]
    },
    {
      "cell_type": "code",
      "source": [
        "# Example 17: Drop Rows by Index Labels\n",
        "import pandas as pd\n",
        "import numpy as np\n",
        "\n",
        "# Create the DataFrame\n",
        "technologies = {\n",
        "    'Courses':[\"Spark\",\"PySpark\",\"Hadoop\",\"Python\"],\n",
        "    'Fee' :[20000,25000,26000,22000],\n",
        "    'Duration':['30day','40days',np.nan, None],\n",
        "    'Discount':[1000,2300,1500,1200]\n",
        "}\n",
        "\n",
        "indexes = ['r1', 'r2', 'r3', 'r4']\n",
        "df = pd.DataFrame(technologies, index=indexes)\n",
        "\n",
        "print(\"Original DataFrame:\")\n",
        "print(df)\n",
        "\n",
        "# Example 17: Drop rows by index labels (r1 and r2)\n",
        "df1 = df.drop(['r1', 'r2'])\n",
        "print(\"\\nDataFrame after dropping rows 'r1' and 'r2' by index labels:\")\n",
        "print(df1)\n",
        "\n",
        "# Alternatively, using the 'index' field to drop rows\n",
        "df2 = df.drop(index=['r1', 'r2'])\n",
        "print(\"\\nDataFrame after dropping rows 'r1' and 'r2' using 'index' field:\")\n",
        "print(df2)\n"
      ],
      "metadata": {
        "colab": {
          "base_uri": "https://localhost:8080/"
        },
        "id": "mk-z027ABOKK",
        "outputId": "37dce659-ea56-4b43-ef9d-b1d3ae2c951f"
      },
      "execution_count": null,
      "outputs": [
        {
          "output_type": "stream",
          "name": "stdout",
          "text": [
            "Original DataFrame:\n",
            "    Courses    Fee Duration  Discount\n",
            "r1    Spark  20000    30day      1000\n",
            "r2  PySpark  25000   40days      2300\n",
            "r3   Hadoop  26000      NaN      1500\n",
            "r4   Python  22000     None      1200\n",
            "\n",
            "DataFrame after dropping rows 'r1' and 'r2' by index labels:\n",
            "   Courses    Fee Duration  Discount\n",
            "r3  Hadoop  26000      NaN      1500\n",
            "r4  Python  22000     None      1200\n",
            "\n",
            "DataFrame after dropping rows 'r1' and 'r2' using 'index' field:\n",
            "   Courses    Fee Duration  Discount\n",
            "r3  Hadoop  26000      NaN      1500\n",
            "r4  Python  22000     None      1200\n"
          ]
        }
      ]
    },
    {
      "cell_type": "code",
      "source": [
        "#exp : 18\n",
        "import pandas as pd\n",
        "import numpy as np\n",
        "\n",
        "# Create the DataFrame\n",
        "technologies = {\n",
        "    'Courses': [\"Spark\", \"PySpark\", \"Hadoop\", \"Python\"],\n",
        "    'Fee': [20000, 25000, 26000, 22000],\n",
        "    'Duration': ['30day', '40days', np.nan, None],\n",
        "    'Discount': [1000, 2300, 1500, 1200]\n",
        "}\n",
        "\n",
        "indexes = ['r1', 'r2', 'r3', 'r4']\n",
        "df = pd.DataFrame(technologies, index=indexes)\n",
        "\n",
        "print(\"Original DataFrame:\")\n",
        "print(df)\n",
        "\n",
        "# Example 18: Drop rows by index number (row position)\n",
        "# Drop the first and third rows (index positions 0 and 2)\n",
        "df1 = df.drop(df.index[[0, 2]])\n",
        "print(\"\\nDataFrame after dropping rows by index number (positions 0 and 2):\")\n",
        "print(df1)\n",
        "# Example 1.18: Delete Rows 1 and 3 by Index Numbers (Positions 1 and 3)\n",
        "df1 = df.drop(df.index[[1, 3]])\n",
        "print(\"\\nDataFrame after deleting rows 1 and 3:\")\n",
        "print(df1)\n",
        "\n",
        "# Example 2.18: Remove First Row (Position 0)\n",
        "df = df.drop(df.index[0])\n",
        "print(\"\\nDataFrame after deleting the first row:\")\n",
        "print(df)\n",
        "\n",
        "# Example 3.18: Remove Last Row (Position -1)\n",
        "df = df.drop(df.index[-1])\n",
        "print(\"\\nDataFrame after deleting the last row:\")\n",
        "print(df)\n",
        "\n",
        "# Example 4.18: Delete Rows by Index Range (From index 2 to the end)\n",
        "df1 = df.drop(df.index[2:])\n",
        "print(\"\\nDataFrame after deleting rows from index 2 to the end:\")\n",
        "print(df1)\n"
      ],
      "metadata": {
        "colab": {
          "base_uri": "https://localhost:8080/"
        },
        "id": "tm_yN7PhBoIw",
        "outputId": "f5ae628b-4505-4cbc-c434-a562b4d83cc4"
      },
      "execution_count": null,
      "outputs": [
        {
          "output_type": "stream",
          "name": "stdout",
          "text": [
            "Original DataFrame:\n",
            "    Courses    Fee Duration  Discount\n",
            "r1    Spark  20000    30day      1000\n",
            "r2  PySpark  25000   40days      2300\n",
            "r3   Hadoop  26000      NaN      1500\n",
            "r4   Python  22000     None      1200\n",
            "\n",
            "DataFrame after dropping rows by index number (positions 0 and 2):\n",
            "    Courses    Fee Duration  Discount\n",
            "r2  PySpark  25000   40days      2300\n",
            "r4   Python  22000     None      1200\n",
            "\n",
            "DataFrame after deleting rows 1 and 3:\n",
            "   Courses    Fee Duration  Discount\n",
            "r1   Spark  20000    30day      1000\n",
            "r3  Hadoop  26000      NaN      1500\n",
            "\n",
            "DataFrame after deleting the first row:\n",
            "    Courses    Fee Duration  Discount\n",
            "r2  PySpark  25000   40days      2300\n",
            "r3   Hadoop  26000      NaN      1500\n",
            "r4   Python  22000     None      1200\n",
            "\n",
            "DataFrame after deleting the last row:\n",
            "    Courses    Fee Duration  Discount\n",
            "r2  PySpark  25000   40days      2300\n",
            "r3   Hadoop  26000      NaN      1500\n",
            "\n",
            "DataFrame after deleting rows from index 2 to the end:\n",
            "    Courses    Fee Duration  Discount\n",
            "r2  PySpark  25000   40days      2300\n",
            "r3   Hadoop  26000      NaN      1500\n"
          ]
        }
      ]
    },
    {
      "cell_type": "code",
      "source": [
        "# exp 19\n",
        "import pandas as pd\n",
        "\n",
        "# Define the DataFrame\n",
        "technologies = {\n",
        "    'Courses': [\"Spark\", \"PySpark\", \"Hadoop\", \"Python\"],\n",
        "    'Fee': [20000, 25000, 26000, 22000],\n",
        "    'Duration': ['30day', '40days', None, '60days'],\n",
        "    'Discount': [1000, 2300, 1500, 1200]\n",
        "}\n",
        "\n",
        "df = pd.DataFrame(technologies)\n",
        "\n",
        "print(\"Original DataFrame:\")\n",
        "print(df)\n",
        "\n",
        "# Example 1: Drop Row with Index 0\n",
        "df1 = df.drop(0)\n",
        "print(\"\\nDataFrame after deleting row with index 0:\")\n",
        "print(df1)\n",
        "\n",
        "# Example 2: Drop Rows with Indexes 0 and 3\n",
        "df3 = df.drop([0, 3])\n",
        "print(\"\\nDataFrame after deleting rows with indexes 0 and 3:\")\n",
        "print(df3)\n",
        "\n",
        "# Example 3: Drop Rows with Index Range 0 to 1 (inclusive)\n",
        "df4 = df.drop(range(0, 2))\n",
        "print(\"\\nDataFrame after deleting rows with index range 0 to 1:\")\n",
        "print(df4)\n"
      ],
      "metadata": {
        "colab": {
          "base_uri": "https://localhost:8080/"
        },
        "id": "bwuyAvIiCklv",
        "outputId": "d8840a0a-690e-4a2a-a4d7-ba7d36131714"
      },
      "execution_count": null,
      "outputs": [
        {
          "output_type": "stream",
          "name": "stdout",
          "text": [
            "Original DataFrame:\n",
            "   Courses    Fee Duration  Discount\n",
            "0    Spark  20000    30day      1000\n",
            "1  PySpark  25000   40days      2300\n",
            "2   Hadoop  26000     None      1500\n",
            "3   Python  22000   60days      1200\n",
            "\n",
            "DataFrame after deleting row with index 0:\n",
            "   Courses    Fee Duration  Discount\n",
            "1  PySpark  25000   40days      2300\n",
            "2   Hadoop  26000     None      1500\n",
            "3   Python  22000   60days      1200\n",
            "\n",
            "DataFrame after deleting rows with indexes 0 and 3:\n",
            "   Courses    Fee Duration  Discount\n",
            "1  PySpark  25000   40days      2300\n",
            "2   Hadoop  26000     None      1500\n",
            "\n",
            "DataFrame after deleting rows with index range 0 to 1:\n",
            "  Courses    Fee Duration  Discount\n",
            "2  Hadoop  26000     None      1500\n",
            "3  Python  22000   60days      1200\n"
          ]
        }
      ]
    },
    {
      "cell_type": "code",
      "source": [
        "# exp 20 : Drop Rows by Checking Conditions\n",
        "import pandas as pd\n",
        "\n",
        "# Define the DataFrame\n",
        "technologies = {\n",
        "    'Courses': [\"Spark\", \"PySpark\", \"Hadoop\", \"Python\"],\n",
        "    'Fee': [20000, 25000, 26000, 22000],\n",
        "    'Duration': ['30day', '40days', None, '60days'],\n",
        "    'Discount': [1000, 2300, 1500, 1200]\n",
        "}\n",
        "\n",
        "df = pd.DataFrame(technologies)\n",
        "\n",
        "print(\"Original DataFrame:\")\n",
        "print(df)\n",
        "\n",
        "# Example 1: Remove rows where the Fee is >= 24000\n",
        "df.drop(df[df['Fee'] >= 24000].index, inplace=True)\n",
        "print(\"\\nDataFrame after removing rows where Fee >= 24000:\")\n",
        "print(df)\n",
        "\n",
        "# Example 2: Select rows where the Fee is >= 24000 using boolean indexing\n",
        "df2 = df[df['Fee'] >= 24000]\n",
        "print(\"\\nDataFrame with rows where Fee >= 24000:\")\n",
        "print(df2)\n",
        "\n",
        "# Example 3: Use loc to filter rows where the Fee is >= 24000\n",
        "df2 = df.loc[df['Fee'] >= 24000]\n",
        "print(\"\\nDataFrame using loc for rows where Fee >= 24000:\")\n",
        "print(df2)\n"
      ],
      "metadata": {
        "colab": {
          "base_uri": "https://localhost:8080/"
        },
        "id": "ng6oYo5FC946",
        "outputId": "a3187700-1787-4bd3-90c0-2391efa0c8cb"
      },
      "execution_count": null,
      "outputs": [
        {
          "output_type": "stream",
          "name": "stdout",
          "text": [
            "Original DataFrame:\n",
            "   Courses    Fee Duration  Discount\n",
            "0    Spark  20000    30day      1000\n",
            "1  PySpark  25000   40days      2300\n",
            "2   Hadoop  26000     None      1500\n",
            "3   Python  22000   60days      1200\n",
            "\n",
            "DataFrame after removing rows where Fee >= 24000:\n",
            "  Courses    Fee Duration  Discount\n",
            "0   Spark  20000    30day      1000\n",
            "3  Python  22000   60days      1200\n",
            "\n",
            "DataFrame with rows where Fee >= 24000:\n",
            "Empty DataFrame\n",
            "Columns: [Courses, Fee, Duration, Discount]\n",
            "Index: []\n",
            "\n",
            "DataFrame using loc for rows where Fee >= 24000:\n",
            "Empty DataFrame\n",
            "Columns: [Courses, Fee, Duration, Discount]\n",
            "Index: []\n"
          ]
        }
      ]
    },
    {
      "cell_type": "code",
      "source": [
        "#Task 1.11: delete all rows with Fee >= 2200 and Discount == 2300. Save the result in a file named task.csv\n",
        "import pandas as pd\n",
        "\n",
        "# Define the DataFrame\n",
        "technologies = {\n",
        "    'Courses': [\"Spark\", \"PySpark\", \"Hadoop\", \"Python\"],\n",
        "    'Fee': [20000, 25000, 26000, 22000],\n",
        "    'Duration': ['30day', '40days', None, '60days'],\n",
        "    'Discount': [1000, 2300, 1500, 2300]\n",
        "}\n",
        "\n",
        "df = pd.DataFrame(technologies)\n",
        "\n",
        "# Print original DataFrame\n",
        "print(\"Original DataFrame:\")\n",
        "print(df)\n",
        "\n",
        "# Remove rows where Fee >= 22000 and Discount == 2300\n",
        "df_cleaned = df.drop(df[(df['Fee'] >= 22000) & (df['Discount'] == 2300)].index)\n",
        "\n",
        "# Save the result to a CSV file named 'task.csv'\n",
        "df_cleaned.to_csv('task.csv', index=False)\n",
        "\n",
        "# Print the cleaned DataFrame\n",
        "print(\"\\nCleaned DataFrame:\")\n",
        "print(df_cleaned)\n"
      ],
      "metadata": {
        "colab": {
          "base_uri": "https://localhost:8080/"
        },
        "id": "Wkz3XueSDNie",
        "outputId": "7ddf82b1-1218-4abe-d9ba-23ddde813c8c"
      },
      "execution_count": null,
      "outputs": [
        {
          "output_type": "stream",
          "name": "stdout",
          "text": [
            "Original DataFrame:\n",
            "   Courses    Fee Duration  Discount\n",
            "0    Spark  20000    30day      1000\n",
            "1  PySpark  25000   40days      2300\n",
            "2   Hadoop  26000     None      1500\n",
            "3   Python  22000   60days      2300\n",
            "\n",
            "Cleaned DataFrame:\n",
            "  Courses    Fee Duration  Discount\n",
            "0   Spark  20000    30day      1000\n",
            "2  Hadoop  26000     None      1500\n"
          ]
        }
      ]
    },
    {
      "cell_type": "code",
      "source": [
        "# Task 1.12: Write a code to delete all rows with a Non/NaN value.\n",
        "import pandas as pd\n",
        "import numpy as np\n",
        "\n",
        "# Define the DataFrame with some NaN values\n",
        "technologies = {\n",
        "    'Courses': [\"Spark\", \"PySpark\", \"Hadoop\", \"Python\"],\n",
        "    'Fee': [20000, 25000, 26000, np.nan],\n",
        "    'Duration': ['30day', '40days', None, '60days'],\n",
        "    'Discount': [1000, 2300, 1500, 2300]\n",
        "}\n",
        "\n",
        "df = pd.DataFrame(technologies)\n",
        "\n",
        "# Print original DataFrame\n",
        "print(\"Original DataFrame:\")\n",
        "print(df)\n",
        "\n",
        "# Delete rows with any NaN value\n",
        "df_cleaned = df.dropna()\n",
        "\n",
        "# Print the cleaned DataFrame\n",
        "print(\"\\nCleaned DataFrame (Rows with NaN removed):\")\n",
        "print(df_cleaned)\n"
      ],
      "metadata": {
        "colab": {
          "base_uri": "https://localhost:8080/"
        },
        "id": "oTaiUBOCDp7O",
        "outputId": "6c991941-3698-4948-b2d1-1e4b841c0c72"
      },
      "execution_count": null,
      "outputs": [
        {
          "output_type": "stream",
          "name": "stdout",
          "text": [
            "Original DataFrame:\n",
            "   Courses      Fee Duration  Discount\n",
            "0    Spark  20000.0    30day      1000\n",
            "1  PySpark  25000.0   40days      2300\n",
            "2   Hadoop  26000.0     None      1500\n",
            "3   Python      NaN   60days      2300\n",
            "\n",
            "Cleaned DataFrame (Rows with NaN removed):\n",
            "   Courses      Fee Duration  Discount\n",
            "0    Spark  20000.0    30day      1000\n",
            "1  PySpark  25000.0   40days      2300\n"
          ]
        }
      ]
    },
    {
      "cell_type": "code",
      "source": [
        "# Task 1.13: Write a code to delete all rows having courses equal to Spark or Hadoop.\n",
        "import pandas as pd\n",
        "\n",
        "# Define the DataFrame\n",
        "technologies = {\n",
        "    'Courses': [\"Spark\", \"PySpark\", \"Hadoop\", \"Python\"],\n",
        "    'Fee': [20000, 25000, 26000, 22000],\n",
        "    'Duration': ['30day', '40days', None, '60days'],\n",
        "    'Discount': [1000, 2300, 1500, 2300]\n",
        "}\n",
        "\n",
        "df = pd.DataFrame(technologies)\n",
        "\n",
        "# Print original DataFrame\n",
        "print(\"Original DataFrame:\")\n",
        "print(df)\n",
        "\n",
        "# Delete rows where Courses is 'Spark' or 'Hadoop'\n",
        "df_cleaned = df[~df['Courses'].isin(['Spark', 'Hadoop'])]\n",
        "\n",
        "# Print the cleaned DataFrame\n",
        "print(\"\\nCleaned DataFrame (Rows with 'Spark' or 'Hadoop' removed):\")\n",
        "print(df_cleaned)\n"
      ],
      "metadata": {
        "colab": {
          "base_uri": "https://localhost:8080/"
        },
        "id": "Mg7gOHCVECXQ",
        "outputId": "6fd80ca0-5926-4c2c-c94f-5dbcf88dbf03"
      },
      "execution_count": null,
      "outputs": [
        {
          "output_type": "stream",
          "name": "stdout",
          "text": [
            "Original DataFrame:\n",
            "   Courses    Fee Duration  Discount\n",
            "0    Spark  20000    30day      1000\n",
            "1  PySpark  25000   40days      2300\n",
            "2   Hadoop  26000     None      1500\n",
            "3   Python  22000   60days      2300\n",
            "\n",
            "Cleaned DataFrame (Rows with 'Spark' or 'Hadoop' removed):\n",
            "   Courses    Fee Duration  Discount\n",
            "1  PySpark  25000   40days      2300\n",
            "3   Python  22000   60days      2300\n"
          ]
        }
      ]
    },
    {
      "cell_type": "code",
      "source": [
        "#exp 14:\n",
        "import pandas as pd\n",
        "# Create two sample DataFrames\n",
        "df1 = pd.DataFrame({'A': ['A0', 'A1', 'A2', 'A3'],\n",
        "'B': ['B0', 'B1', 'B2', 'B3'],\n",
        "'C': ['C0', 'C1', 'C2', 'C3'],\n",
        "'D': ['D0', 'D1', 'D2', 'D3']})\n",
        "df2 = pd.DataFrame({'A': ['A4', 'A5', 'A6', 'A7'],\n",
        "'B': ['B4', 'B5', 'B6', 'B7'],\n",
        "'C': ['C4', 'C5', 'C6', 'C7'],\n",
        "'D': ['D4', 'D5', 'D6', 'D7']})\n",
        "\n",
        "# Concatenate the DataFrames vertically\n",
        "result = pd.concat([df1, df2])\n",
        "print(result)"
      ],
      "metadata": {
        "colab": {
          "base_uri": "https://localhost:8080/"
        },
        "id": "uZNEYCzjEUIc",
        "outputId": "5b6a714a-b44a-4a23-d8e8-40fcf6b2353e"
      },
      "execution_count": null,
      "outputs": [
        {
          "output_type": "stream",
          "name": "stdout",
          "text": [
            "    A   B   C   D\n",
            "0  A0  B0  C0  D0\n",
            "1  A1  B1  C1  D1\n",
            "2  A2  B2  C2  D2\n",
            "3  A3  B3  C3  D3\n",
            "0  A4  B4  C4  D4\n",
            "1  A5  B5  C5  D5\n",
            "2  A6  B6  C6  D6\n",
            "3  A7  B7  C7  D7\n"
          ]
        }
      ]
    },
    {
      "cell_type": "code",
      "source": [
        "# Task 1.14: Perform the concatenation in the above example along columns.\n",
        "import pandas as pd\n",
        "\n",
        "# Create two sample DataFrames\n",
        "df1 = pd.DataFrame({'A': ['A0', 'A1', 'A2', 'A3'],\n",
        "                    'B': ['B0', 'B1', 'B2', 'B3'],\n",
        "                    'C': ['C0', 'C1', 'C2', 'C3'],\n",
        "                    'D': ['D0', 'D1', 'D2', 'D3']})\n",
        "df2 = pd.DataFrame({'A': ['A4', 'A5', 'A6', 'A7'],\n",
        "                    'B': ['B4', 'B5', 'B6', 'B7'],\n",
        "                    'C': ['C4', 'C5', 'C6', 'C7'],\n",
        "                    'D': ['D4', 'D5', 'D6', 'D7']})\n",
        "\n",
        "# Concatenate the DataFrames along columns (horizontally)\n",
        "result = pd.concat([df1, df2], axis=1)\n",
        "print(result)\n"
      ],
      "metadata": {
        "colab": {
          "base_uri": "https://localhost:8080/"
        },
        "id": "wg4Ky7laEymj",
        "outputId": "900cc865-c30a-4bf9-e099-cbbeaac70eae"
      },
      "execution_count": null,
      "outputs": [
        {
          "output_type": "stream",
          "name": "stdout",
          "text": [
            "    A   B   C   D   A   B   C   D\n",
            "0  A0  B0  C0  D0  A4  B4  C4  D4\n",
            "1  A1  B1  C1  D1  A5  B5  C5  D5\n",
            "2  A2  B2  C2  D2  A6  B6  C6  D6\n",
            "3  A3  B3  C3  D3  A7  B7  C7  D7\n"
          ]
        }
      ]
    },
    {
      "cell_type": "code",
      "source": [
        "#Task 1.15: Run the samples above and figure out what returns.\n",
        "import pandas as pd\n",
        "\n",
        "# Create two sample DataFrames\n",
        "df1 = pd.DataFrame({'A': ['A0', 'A1', 'A2', 'A3'],\n",
        "                    'B': ['B0', 'B1', 'B2', 'B3'],\n",
        "                    'C': ['C0', 'C1', 'C2', 'C3'],\n",
        "                    'D': ['D0', 'D1', 'D2', 'D3']})\n",
        "\n",
        "df2 = pd.DataFrame({'A': ['A4', 'A5', 'A6', 'A7'],\n",
        "                    'B': ['B4', 'B5', 'B6', 'B7'],\n",
        "                    'C': ['C4', 'C5', 'C6', 'C7'],\n",
        "                    'D': ['D4', 'D5', 'D6', 'D7']})\n",
        "\n",
        "# Concatenate vertically (along rows)\n",
        "result_vertical = pd.concat([df1, df2])\n",
        "print(result_vertical)\n"
      ],
      "metadata": {
        "colab": {
          "base_uri": "https://localhost:8080/"
        },
        "id": "OYeQTeJjFLRJ",
        "outputId": "fc5167b3-fab3-4b6b-b49c-135fb0fa2f1c"
      },
      "execution_count": null,
      "outputs": [
        {
          "output_type": "stream",
          "name": "stdout",
          "text": [
            "    A   B   C   D\n",
            "0  A0  B0  C0  D0\n",
            "1  A1  B1  C1  D1\n",
            "2  A2  B2  C2  D2\n",
            "3  A3  B3  C3  D3\n",
            "0  A4  B4  C4  D4\n",
            "1  A5  B5  C5  D5\n",
            "2  A6  B6  C6  D6\n",
            "3  A7  B7  C7  D7\n"
          ]
        }
      ]
    },
    {
      "cell_type": "code",
      "source": [
        "# Task 1.16: Let’s say that we want to merge frames df1 and df2 using a left outer join, Select all the columns from df1 but only column colE from df2.\n",
        "import pandas as pd\n",
        "\n",
        "# Sample DataFrames\n",
        "df1 = pd.DataFrame({\n",
        "    'key': ['K0', 'K1', 'K2', 'K3'],\n",
        "    'A': ['A0', 'A1', 'A2', 'A3'],\n",
        "    'B': ['B0', 'B1', 'B2', 'B3']\n",
        "})\n",
        "\n",
        "df2 = pd.DataFrame({\n",
        "    'key': ['K0', 'K1', 'K2', 'K3'],\n",
        "    'C': ['C0', 'C1', 'C2', 'C3'],\n",
        "    'D': ['D0', 'D1', 'D2', 'D3'],\n",
        "    'colE': ['E0', 'E1', 'E2', 'E3']\n",
        "})\n",
        "\n",
        "# Perform left outer join on 'key' and select specific columns\n",
        "result = pd.merge(df1, df2[['key', 'colE']], on='key', how='left')\n",
        "\n",
        "# Print the result\n",
        "print(result)\n"
      ],
      "metadata": {
        "colab": {
          "base_uri": "https://localhost:8080/"
        },
        "id": "eX-M3yH8FUjN",
        "outputId": "fca6dc43-5581-4d6f-b101-4cb9a1fa216e"
      },
      "execution_count": null,
      "outputs": [
        {
          "output_type": "stream",
          "name": "stdout",
          "text": [
            "  key   A   B colE\n",
            "0  K0  A0  B0   E0\n",
            "1  K1  A1  B1   E1\n",
            "2  K2  A2  B2   E2\n",
            "3  K3  A3  B3   E3\n"
          ]
        }
      ]
    }
  ]
}